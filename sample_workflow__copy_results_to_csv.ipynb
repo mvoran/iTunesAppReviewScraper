{
 "cells": [
  {
   "cell_type": "code",
   "execution_count": 1,
   "metadata": {
    "collapsed": true
   },
   "outputs": [],
   "source": [
    "#create blank Pandas dataframe to hold review data\n",
    "import pandas as pd\n",
    "pd_reviews = pd.DataFrame(columns = ['country', 'username', 'stars', 'date', 'title', 'version', 'text'])"
   ]
  },
  {
   "cell_type": "code",
   "execution_count": 3,
   "metadata": {
    "collapsed": false
   },
   "outputs": [],
   "source": [
    "from itunes_app_review_scraper import iTunesScraper\n",
    "base_path = [path to the directory that will hold the CSV files]\n",
    "reviews = iTunesScraper.get_reviews(974748812, base_path)      #(app id, country code (optional))"
   ]
  },
  {
   "cell_type": "code",
   "execution_count": 5,
   "metadata": {
    "collapsed": false
   },
   "outputs": [
    {
     "data": {
      "text/html": [
       "<div>\n",
       "<table border=\"1\" class=\"dataframe\">\n",
       "  <thead>\n",
       "    <tr style=\"text-align: right;\">\n",
       "      <th></th>\n",
       "      <th>country</th>\n",
       "      <th>username</th>\n",
       "      <th>stars</th>\n",
       "      <th>date</th>\n",
       "      <th>title</th>\n",
       "      <th>version</th>\n",
       "      <th>text</th>\n",
       "    </tr>\n",
       "  </thead>\n",
       "  <tbody>\n",
       "    <tr>\n",
       "      <th>0</th>\n",
       "      <td>AR</td>\n",
       "      <td>Vvrage</td>\n",
       "      <td>5</td>\n",
       "      <td>2016-02-01</td>\n",
       "      <td>Great</td>\n",
       "      <td>2.1</td>\n",
       "      <td>I'm so in love with this app. Keep on the good...</td>\n",
       "    </tr>\n",
       "    <tr>\n",
       "      <th>1</th>\n",
       "      <td>AR</td>\n",
       "      <td>Milena mrllicovsky</td>\n",
       "      <td>5</td>\n",
       "      <td>2016-04-10</td>\n",
       "      <td>Muy buena apo</td>\n",
       "      <td>2.1</td>\n",
       "      <td>Lo único malo que tiene es que no podes guarda...</td>\n",
       "    </tr>\n",
       "    <tr>\n",
       "      <th>2</th>\n",
       "      <td>AR</td>\n",
       "      <td>dmantelli</td>\n",
       "      <td>5</td>\n",
       "      <td>2016-11-05</td>\n",
       "      <td>Excelente</td>\n",
       "      <td>2.3.4</td>\n",
       "      <td>Ahora se pueden compartir los GIF a Whatsapp.</td>\n",
       "    </tr>\n",
       "    <tr>\n",
       "      <th>3</th>\n",
       "      <td>AR</td>\n",
       "      <td>Xv3rs4</td>\n",
       "      <td>5</td>\n",
       "      <td>2017-02-08</td>\n",
       "      <td>Es GENIAL!</td>\n",
       "      <td>2.5.2</td>\n",
       "      <td>Los mensajes son más divertidos con estos Gifs</td>\n",
       "    </tr>\n",
       "    <tr>\n",
       "      <th>4</th>\n",
       "      <td>AR</td>\n",
       "      <td>dapezlo</td>\n",
       "      <td>5</td>\n",
       "      <td>2017-02-25</td>\n",
       "      <td>Muy buena app</td>\n",
       "      <td>2.5.3</td>\n",
       "      <td>Lo único debería reproducir solo los q selecci...</td>\n",
       "    </tr>\n",
       "  </tbody>\n",
       "</table>\n",
       "</div>"
      ],
      "text/plain": [
       "  country            username stars       date          title version  \\\n",
       "0      AR              Vvrage     5 2016-02-01          Great     2.1   \n",
       "1      AR  Milena mrllicovsky     5 2016-04-10  Muy buena apo     2.1   \n",
       "2      AR           dmantelli     5 2016-11-05      Excelente   2.3.4   \n",
       "3      AR              Xv3rs4     5 2017-02-08     Es GENIAL!   2.5.2   \n",
       "4      AR             dapezlo     5 2017-02-25  Muy buena app   2.5.3   \n",
       "\n",
       "                                                text  \n",
       "0  I'm so in love with this app. Keep on the good...  \n",
       "1  Lo único malo que tiene es que no podes guarda...  \n",
       "2      Ahora se pueden compartir los GIF a Whatsapp.  \n",
       "3     Los mensajes son más divertidos con estos Gifs  \n",
       "4  Lo único debería reproducir solo los q selecci...  "
      ]
     },
     "execution_count": 5,
     "metadata": {},
     "output_type": "execute_result"
    }
   ],
   "source": [
    "pd_reviews.head()"
   ]
  },
  {
   "cell_type": "code",
   "execution_count": 3,
   "metadata": {
    "collapsed": false
   },
   "outputs": [
    {
     "name": "stdout",
     "output_type": "stream",
     "text": [
      "Processed 100 files so far...\n",
      "Processed 200 files so far...\n",
      "Finished processing 267 files!\n"
     ]
    }
   ],
   "source": [
    "import glob, os\n",
    "#used to set a temporary reference to the itunes_app_review_scraper module. This is needed to reference a dictionary\n",
    "#of country codes and country ids in the config.py file\n",
    "import sys\n",
    "sys.path.insert(0, [path to the installed itunes_app_review_scraper module])\n",
    "import config\n",
    "\n",
    "files_processed = 0\n",
    "\n",
    "os.chdir(basepath)\n",
    "for file in glob.glob(\"*.csv\"):\n",
    "    for key, value in config.Config.COUNTRIES.items():                  #key == country code, value == countryid\n",
    "        if value == file.split('_',1)[0]:                               #files are in countryid_pagenum format\n",
    "            with open(basepath + file,'r', encoding='utf-8') as f:      #this just works better than using read_csv\n",
    "                df = pd.read_csv(f,delimiter='|', quotechar='^')        #by itself, at least for unicode files\n",
    "                df['country'] = key\n",
    "                pd_reviews = pd_reviews.append(df, ignore_index=True)   #read csv files and append to dataframe\n",
    "                files_processed +=1\n",
    "                if files_processed % 100 == 0:\n",
    "                    print ('Processed %d files so far...' % files_processed)\n",
    "print ('Finished processing %d files!' % files_processed)"
   ]
  },
  {
   "cell_type": "code",
   "execution_count": 4,
   "metadata": {
    "collapsed": false
   },
   "outputs": [
    {
     "data": {
      "text/html": [
       "<div>\n",
       "<table border=\"1\" class=\"dataframe\">\n",
       "  <thead>\n",
       "    <tr style=\"text-align: right;\">\n",
       "      <th></th>\n",
       "      <th>Unnamed: 0</th>\n",
       "      <th>country</th>\n",
       "      <th>date</th>\n",
       "      <th>stars</th>\n",
       "      <th>text</th>\n",
       "      <th>title</th>\n",
       "      <th>username</th>\n",
       "      <th>version</th>\n",
       "    </tr>\n",
       "  </thead>\n",
       "  <tbody>\n",
       "    <tr>\n",
       "      <th>0</th>\n",
       "      <td>0.0</td>\n",
       "      <td>US</td>\n",
       "      <td>2015-03-26</td>\n",
       "      <td>5.0</td>\n",
       "      <td>Nice collection of gifs. Easy to search and send.</td>\n",
       "      <td>Awesome</td>\n",
       "      <td>Janakasoft</td>\n",
       "      <td>1</td>\n",
       "    </tr>\n",
       "    <tr>\n",
       "      <th>1</th>\n",
       "      <td>1.0</td>\n",
       "      <td>US</td>\n",
       "      <td>2015-03-26</td>\n",
       "      <td>5.0</td>\n",
       "      <td>I can't believe it. As if some stroke of luck ...</td>\n",
       "      <td>NO WAY!!</td>\n",
       "      <td>JonH2O</td>\n",
       "      <td>1</td>\n",
       "    </tr>\n",
       "    <tr>\n",
       "      <th>2</th>\n",
       "      <td>2.0</td>\n",
       "      <td>US</td>\n",
       "      <td>2015-03-26</td>\n",
       "      <td>5.0</td>\n",
       "      <td>Emojis are so dead to me. And this is the Jazz...</td>\n",
       "      <td>Tha bessss</td>\n",
       "      <td>mangoteeth</td>\n",
       "      <td>1</td>\n",
       "    </tr>\n",
       "    <tr>\n",
       "      <th>3</th>\n",
       "      <td>3.0</td>\n",
       "      <td>US</td>\n",
       "      <td>2015-03-28</td>\n",
       "      <td>5.0</td>\n",
       "      <td>Wene I got the app I dident let it access my p...</td>\n",
       "      <td>Help</td>\n",
       "      <td>WavyTuna991</td>\n",
       "      <td>1.1</td>\n",
       "    </tr>\n",
       "    <tr>\n",
       "      <th>4</th>\n",
       "      <td>4.0</td>\n",
       "      <td>US</td>\n",
       "      <td>2015-04-27</td>\n",
       "      <td>5.0</td>\n",
       "      <td>Insanely easy to use. Amazing selection of GIF...</td>\n",
       "      <td>Love this app</td>\n",
       "      <td>Nicsmith888</td>\n",
       "      <td>1.2</td>\n",
       "    </tr>\n",
       "  </tbody>\n",
       "</table>\n",
       "</div>"
      ],
      "text/plain": [
       "   Unnamed: 0 country        date  stars  \\\n",
       "0         0.0      US  2015-03-26    5.0   \n",
       "1         1.0      US  2015-03-26    5.0   \n",
       "2         2.0      US  2015-03-26    5.0   \n",
       "3         3.0      US  2015-03-28    5.0   \n",
       "4         4.0      US  2015-04-27    5.0   \n",
       "\n",
       "                                                text          title  \\\n",
       "0  Nice collection of gifs. Easy to search and send.        Awesome   \n",
       "1  I can't believe it. As if some stroke of luck ...       NO WAY!!   \n",
       "2  Emojis are so dead to me. And this is the Jazz...     Tha bessss   \n",
       "3  Wene I got the app I dident let it access my p...           Help   \n",
       "4  Insanely easy to use. Amazing selection of GIF...  Love this app   \n",
       "\n",
       "      username version  \n",
       "0   Janakasoft       1  \n",
       "1       JonH2O       1  \n",
       "2   mangoteeth       1  \n",
       "3  WavyTuna991     1.1  \n",
       "4  Nicsmith888     1.2  "
      ]
     },
     "execution_count": 4,
     "metadata": {},
     "output_type": "execute_result"
    }
   ],
   "source": [
    "#let's take a look at our results so far\n",
    "pd_reviews.head()"
   ]
  },
  {
   "cell_type": "code",
   "execution_count": 5,
   "metadata": {
    "collapsed": false
   },
   "outputs": [],
   "source": [
    "#drop the index column. we don't need it\n",
    "pd_reviews.drop('Unnamed: 0', axis=1, inplace=True)"
   ]
  },
  {
   "cell_type": "code",
   "execution_count": 6,
   "metadata": {
    "collapsed": false
   },
   "outputs": [],
   "source": [
    "#the iTunes store creates duplicates of most US reviews and saves them to the Bangladesh, Ivory Coast, Maldives,\n",
    "#Liechtenstein and Serbia country storefronts...\n",
    "pd_reviews['is_dupe'] = pd_reviews.duplicated(subset=['username','stars','date','title','version','text'])"
   ]
  },
  {
   "cell_type": "code",
   "execution_count": 7,
   "metadata": {
    "collapsed": false
   },
   "outputs": [
    {
     "data": {
      "text/plain": [
       "5395"
      ]
     },
     "execution_count": 7,
     "metadata": {},
     "output_type": "execute_result"
    }
   ],
   "source": [
    "len(pd_reviews)"
   ]
  },
  {
   "cell_type": "code",
   "execution_count": 8,
   "metadata": {
    "collapsed": false
   },
   "outputs": [
    {
     "data": {
      "text/plain": [
       "MV    978\n",
       "LI    978\n",
       "BD    978\n",
       "CI    375\n",
       "RS    175\n",
       "Name: country, dtype: int64"
      ]
     },
     "execution_count": 8,
     "metadata": {},
     "output_type": "execute_result"
    }
   ],
   "source": [
    "#this counts the numbers of dupes in these country storefronts\n",
    "pd_reviews['country'].loc[(pd_reviews['country']!='US') & (pd_reviews['is_dupe']==True)].value_counts()"
   ]
  },
  {
   "cell_type": "code",
   "execution_count": 9,
   "metadata": {
    "collapsed": false
   },
   "outputs": [],
   "source": [
    "#drop the non-US dupes\n",
    "pd_reviews = pd_reviews.query(\"is_dupe == False or country == 'US'\")\n",
    "#drop the is_dupe column. we don't need it any longer\n",
    "pd_reviews.drop('is_dupe', axis=1, inplace=True)"
   ]
  },
  {
   "cell_type": "code",
   "execution_count": 10,
   "metadata": {
    "collapsed": false
   },
   "outputs": [
    {
     "data": {
      "text/html": [
       "<div>\n",
       "<table border=\"1\" class=\"dataframe\">\n",
       "  <thead>\n",
       "    <tr style=\"text-align: right;\">\n",
       "      <th></th>\n",
       "      <th>country</th>\n",
       "      <th>date</th>\n",
       "      <th>stars</th>\n",
       "      <th>text</th>\n",
       "      <th>title</th>\n",
       "      <th>username</th>\n",
       "      <th>version</th>\n",
       "    </tr>\n",
       "  </thead>\n",
       "  <tbody>\n",
       "    <tr>\n",
       "      <th>0</th>\n",
       "      <td>US</td>\n",
       "      <td>2015-03-26</td>\n",
       "      <td>5.0</td>\n",
       "      <td>Nice collection of gifs. Easy to search and send.</td>\n",
       "      <td>Awesome</td>\n",
       "      <td>Janakasoft</td>\n",
       "      <td>1</td>\n",
       "    </tr>\n",
       "    <tr>\n",
       "      <th>1</th>\n",
       "      <td>US</td>\n",
       "      <td>2015-03-26</td>\n",
       "      <td>5.0</td>\n",
       "      <td>I can't believe it. As if some stroke of luck ...</td>\n",
       "      <td>NO WAY!!</td>\n",
       "      <td>JonH2O</td>\n",
       "      <td>1</td>\n",
       "    </tr>\n",
       "    <tr>\n",
       "      <th>2</th>\n",
       "      <td>US</td>\n",
       "      <td>2015-03-26</td>\n",
       "      <td>5.0</td>\n",
       "      <td>Emojis are so dead to me. And this is the Jazz...</td>\n",
       "      <td>Tha bessss</td>\n",
       "      <td>mangoteeth</td>\n",
       "      <td>1</td>\n",
       "    </tr>\n",
       "    <tr>\n",
       "      <th>3</th>\n",
       "      <td>US</td>\n",
       "      <td>2015-03-28</td>\n",
       "      <td>5.0</td>\n",
       "      <td>Wene I got the app I dident let it access my p...</td>\n",
       "      <td>Help</td>\n",
       "      <td>WavyTuna991</td>\n",
       "      <td>1.1</td>\n",
       "    </tr>\n",
       "    <tr>\n",
       "      <th>4</th>\n",
       "      <td>US</td>\n",
       "      <td>2015-04-27</td>\n",
       "      <td>5.0</td>\n",
       "      <td>Insanely easy to use. Amazing selection of GIF...</td>\n",
       "      <td>Love this app</td>\n",
       "      <td>Nicsmith888</td>\n",
       "      <td>1.2</td>\n",
       "    </tr>\n",
       "  </tbody>\n",
       "</table>\n",
       "</div>"
      ],
      "text/plain": [
       "  country        date  stars  \\\n",
       "0      US  2015-03-26    5.0   \n",
       "1      US  2015-03-26    5.0   \n",
       "2      US  2015-03-26    5.0   \n",
       "3      US  2015-03-28    5.0   \n",
       "4      US  2015-04-27    5.0   \n",
       "\n",
       "                                                text          title  \\\n",
       "0  Nice collection of gifs. Easy to search and send.        Awesome   \n",
       "1  I can't believe it. As if some stroke of luck ...       NO WAY!!   \n",
       "2  Emojis are so dead to me. And this is the Jazz...     Tha bessss   \n",
       "3  Wene I got the app I dident let it access my p...           Help   \n",
       "4  Insanely easy to use. Amazing selection of GIF...  Love this app   \n",
       "\n",
       "      username version  \n",
       "0   Janakasoft       1  \n",
       "1       JonH2O       1  \n",
       "2   mangoteeth       1  \n",
       "3  WavyTuna991     1.1  \n",
       "4  Nicsmith888     1.2  "
      ]
     },
     "execution_count": 10,
     "metadata": {},
     "output_type": "execute_result"
    }
   ],
   "source": [
    "pd_reviews.head()"
   ]
  },
  {
   "cell_type": "code",
   "execution_count": 11,
   "metadata": {
    "collapsed": false
   },
   "outputs": [],
   "source": [
    "#search/replace in pandas seems unnecessarily complicated. this is my best attempt (so far) to clean up the data\n",
    "#1. remove | and ^ characters (which will be used as delimiters and quote marks)\n",
    "#2. remove carriage returns (which PowerBI doesn't seem to handle gracefully)\n",
    "for col in pd_reviews.columns.values:\n",
    "    pd_reviews[col] = pd_reviews[col].replace('\\|', ' ', regex=True)\n",
    "    pd_reviews[col] = pd_reviews[col].replace('\\^', ' ', regex=True)\n",
    "    pd_reviews[col] = pd_reviews[col].replace('\\r', ' ', regex=True)\n",
    "    pd_reviews[col] = pd_reviews[col].replace('\\n', ' ', regex=True)"
   ]
  },
  {
   "cell_type": "code",
   "execution_count": 12,
   "metadata": {
    "collapsed": false
   },
   "outputs": [
    {
     "data": {
      "text/html": [
       "<div>\n",
       "<table border=\"1\" class=\"dataframe\">\n",
       "  <thead>\n",
       "    <tr style=\"text-align: right;\">\n",
       "      <th></th>\n",
       "      <th>country</th>\n",
       "      <th>date</th>\n",
       "      <th>stars</th>\n",
       "      <th>text</th>\n",
       "      <th>title</th>\n",
       "      <th>username</th>\n",
       "      <th>version</th>\n",
       "    </tr>\n",
       "  </thead>\n",
       "  <tbody>\n",
       "    <tr>\n",
       "      <th>0</th>\n",
       "      <td>US</td>\n",
       "      <td>2015-03-26</td>\n",
       "      <td>5.0</td>\n",
       "      <td>Nice collection of gifs. Easy to search and send.</td>\n",
       "      <td>Awesome</td>\n",
       "      <td>Janakasoft</td>\n",
       "      <td>1</td>\n",
       "    </tr>\n",
       "    <tr>\n",
       "      <th>1</th>\n",
       "      <td>US</td>\n",
       "      <td>2015-03-26</td>\n",
       "      <td>5.0</td>\n",
       "      <td>I can't believe it. As if some stroke of luck ...</td>\n",
       "      <td>NO WAY!!</td>\n",
       "      <td>JonH2O</td>\n",
       "      <td>1</td>\n",
       "    </tr>\n",
       "    <tr>\n",
       "      <th>2</th>\n",
       "      <td>US</td>\n",
       "      <td>2015-03-26</td>\n",
       "      <td>5.0</td>\n",
       "      <td>Emojis are so dead to me. And this is the Jazz...</td>\n",
       "      <td>Tha bessss</td>\n",
       "      <td>mangoteeth</td>\n",
       "      <td>1</td>\n",
       "    </tr>\n",
       "    <tr>\n",
       "      <th>3</th>\n",
       "      <td>US</td>\n",
       "      <td>2015-03-28</td>\n",
       "      <td>5.0</td>\n",
       "      <td>Wene I got the app I dident let it access my p...</td>\n",
       "      <td>Help</td>\n",
       "      <td>WavyTuna991</td>\n",
       "      <td>1.1</td>\n",
       "    </tr>\n",
       "    <tr>\n",
       "      <th>4</th>\n",
       "      <td>US</td>\n",
       "      <td>2015-04-27</td>\n",
       "      <td>5.0</td>\n",
       "      <td>Insanely easy to use. Amazing selection of GIF...</td>\n",
       "      <td>Love this app</td>\n",
       "      <td>Nicsmith888</td>\n",
       "      <td>1.2</td>\n",
       "    </tr>\n",
       "  </tbody>\n",
       "</table>\n",
       "</div>"
      ],
      "text/plain": [
       "  country        date  stars  \\\n",
       "0      US  2015-03-26    5.0   \n",
       "1      US  2015-03-26    5.0   \n",
       "2      US  2015-03-26    5.0   \n",
       "3      US  2015-03-28    5.0   \n",
       "4      US  2015-04-27    5.0   \n",
       "\n",
       "                                                text          title  \\\n",
       "0  Nice collection of gifs. Easy to search and send.        Awesome   \n",
       "1  I can't believe it. As if some stroke of luck ...       NO WAY!!   \n",
       "2  Emojis are so dead to me. And this is the Jazz...     Tha bessss   \n",
       "3  Wene I got the app I dident let it access my p...           Help   \n",
       "4  Insanely easy to use. Amazing selection of GIF...  Love this app   \n",
       "\n",
       "      username version  \n",
       "0   Janakasoft       1  \n",
       "1       JonH2O       1  \n",
       "2   mangoteeth       1  \n",
       "3  WavyTuna991     1.1  \n",
       "4  Nicsmith888     1.2  "
      ]
     },
     "execution_count": 12,
     "metadata": {},
     "output_type": "execute_result"
    }
   ],
   "source": [
    "#confirm that everything looks good before saving the combined results to CSV file for load to PowerBI\n",
    "pd_reviews.head()"
   ]
  },
  {
   "cell_type": "code",
   "execution_count": 13,
   "metadata": {
    "collapsed": true
   },
   "outputs": [],
   "source": [
    "#save the results to disk\n",
    "pd_reviews.to_csv(basepath + 'Strava_Final.csv', sep='|', quotechar='^', encoding='utf-8')"
   ]
  }
 ],
 "metadata": {
  "kernelspec": {
   "display_name": "Python 3",
   "language": "python",
   "name": "python3"
  },
  "language_info": {
   "codemirror_mode": {
    "name": "ipython",
    "version": 3
   },
   "file_extension": ".py",
   "mimetype": "text/x-python",
   "name": "python",
   "nbconvert_exporter": "python",
   "pygments_lexer": "ipython3",
   "version": "3.5.2"
  }
 },
 "nbformat": 4,
 "nbformat_minor": 1
}
